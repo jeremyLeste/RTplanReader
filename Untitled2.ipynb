{
 "cells": [
  {
   "cell_type": "code",
   "execution_count": 1,
   "metadata": {},
   "outputs": [
    {
     "data": {
      "text/html": [
       "<script>requirejs.config({paths: { 'plotly': ['https://cdn.plot.ly/plotly-latest.min']},});if(!window.Plotly) {{require(['plotly'],function(plotly) {window.Plotly=plotly;});}}</script>"
      ],
      "text/vnd.plotly.v1+html": [
       "<script>requirejs.config({paths: { 'plotly': ['https://cdn.plot.ly/plotly-latest.min']},});if(!window.Plotly) {{require(['plotly'],function(plotly) {window.Plotly=plotly;});}}</script>"
      ]
     },
     "metadata": {},
     "output_type": "display_data"
    }
   ],
   "source": [
    "import dicom\n",
    "import numpy as np\n",
    "from stl import mesh\n",
    "import plotly.offline as py\n",
    "\n",
    "import plotly.graph_objs as go\n",
    "py.offline.init_notebook_mode(connected=True)"
   ]
  },
  {
   "cell_type": "code",
   "execution_count": 2,
   "metadata": {},
   "outputs": [],
   "source": [
    "plan = dicom.read_file(\"rp.ceccato.dcm\")\n",
    "#print len(plan.BeamSequence[0].BlockSequence[0].BlockData)\n",
    "bdata= [float(val) for val in plan.BeamSequence[0].BlockSequence[0].BlockData]\n",
    "x=[]\n",
    "y=[]\n",
    "\n",
    "for i in np.arange(0, len(bdata)):\n",
    "    if i %2  ==0:\n",
    "        x.append(bdata[i])\n",
    "    else: \n",
    "        y.append(bdata[i])\n",
    "trace1 = go.Scatter(\n",
    "    x = x,\n",
    "    y = y,\n",
    "    mode = 'markers', \n",
    "    name = 'Block edge', \n",
    "    )\n",
    "data1 = [trace1]\n",
    "fig1= go.Figure(data=data1)   \n",
    "#py.iplot(fig1)\n",
    "#print plan.BeamSequence[0].BlockSequence[0].BlockData"
   ]
  },
  {
   "cell_type": "code",
   "execution_count": 3,
   "metadata": {},
   "outputs": [
    {
     "name": "stdout",
     "output_type": "stream",
     "text": [
      "[9.5, 7.5, 17.6826923076923]\n",
      "[[10.5, 7.5, 17.871921182266], [0, 7.5, 0], [9.5, 7.5, 17.6826923076923]]\n",
      "[[9.5, 7.5, 17.6826923076923], [0, 7.5, 0], [8.51724137931034, 7.5, 17.5]]\n"
     ]
    }
   ],
   "source": [
    "pts_up=[]\n",
    "\n",
    "for i in range(len(x)):\n",
    "    pt=[]\n",
    "    pt.append(x[i])\n",
    "    pt.append(7.5)\n",
    "    pt.append(y[i])\n",
    "    \n",
    "    pts_up.append(pt)\n",
    "\n",
    "print pts_up[0]\n",
    "origin1=[0, 7.5, 0]\n",
    "\n",
    "stl_top=[]\n",
    "for i in range(0, len(pts_up)):\n",
    "    f=[]\n",
    "    z=i+1\n",
    "    \n",
    "    if z > len(pts_up)-1: \n",
    "        f.append(pts_up[0])\n",
    "    else:\n",
    "        f.append(pts_up[z])\n",
    "    f.append(origin1)\n",
    "    f.append(pts_up[i])\n",
    "    \n",
    "    stl_top.append(f)\n",
    "print stl_top[0]\n",
    "print stl_top[-1]"
   ]
  },
  {
   "cell_type": "code",
   "execution_count": 4,
   "metadata": {},
   "outputs": [
    {
     "name": "stdout",
     "output_type": "stream",
     "text": [
      "[[9.5, -7.5, 17.6826923076923], [0, -7.5, 0], [10.5, -7.5, 17.871921182266]]\n",
      "[[8.51724137931034, -7.5, 17.5], [0, -7.5, 0], [9.5, -7.5, 17.6826923076923]]\n"
     ]
    }
   ],
   "source": [
    "pts_down=[]\n",
    "for i in range(len(x)):\n",
    "    pt=[]\n",
    "    pt.append(x[i])\n",
    "    pt.append(-7.5)\n",
    "    pt.append(y[i])\n",
    "    \n",
    "    pts_down.append(pt)\n",
    "      \n",
    "origin2=[0, -7.5, 0] \n",
    "\n",
    "stl_bot=[]\n",
    "for i in range(0, len(pts_down)):\n",
    "    f=[]\n",
    "    z=i+1\n",
    "    f.append(pts_down[i])\n",
    "    f.append(origin2)\n",
    "    if z > len(pts_down)-1: \n",
    "        f.append(pts_down[0])\n",
    "    else:\n",
    "        f.append(pts_down[z])\n",
    "    \n",
    "    stl_bot.append(f)\n",
    "print stl_bot[0]\n",
    "print stl_bot[-1]"
   ]
  },
  {
   "cell_type": "code",
   "execution_count": 5,
   "metadata": {},
   "outputs": [],
   "source": [
    "vertices = np.asarray([stl_top])\n",
    "vertices.resize((len(stl_top),3,3))\n",
    "\n",
    "vertices1 = np.asarray([stl_bot])\n",
    "vertices1.resize((len(stl_bot),3,3))\n",
    "\n",
    "#insert_down = mesh.Mesh(np.zeros(vertices1.shape[0], dtype=mesh.Mesh.dtype))\n",
    "# for i, f in enumerate(vertices1):\n",
    "#     insert_down.vectors[i]=f\n",
    "# insert_down.save('insert_down3.stl')\n",
    "# insert_up = mesh.Mesh(np.zeros(vertices.shape[0], dtype=mesh.Mesh.dtype))\n",
    "# for i, f in enumerate(vertices):\n",
    "#     insert_up.vectors[i]=f\n",
    "# insert_up.save('insert_up3.stl')"
   ]
  },
  {
   "cell_type": "code",
   "execution_count": 6,
   "metadata": {},
   "outputs": [],
   "source": [
    "pts_side=[]\n",
    "stl_side=[]\n",
    "\n",
    "for i in range(len(stl_top)):\n",
    "    fa=[]\n",
    "    fb=[]\n",
    "    fa.append(stl_bot[i][0])  \n",
    "    if i == len(stl_top)-1:\n",
    "            fa.append(stl_bot[0][0])\n",
    "    else:\n",
    "        fa.append(stl_bot[i+1][0])\n",
    "    \n",
    "    fa.append(stl_top[i][0]) \n",
    "    \n",
    "    fb.append(stl_top[i][0])\n",
    "    if i == len(stl_top)-1:\n",
    "        fb.append(stl_top[0][0])\n",
    "        fb.append(stl_bot[0][0])\n",
    "                \n",
    "    else:\n",
    "        fb.append(stl_bot[i+1][0])\n",
    "        fb.append(stl_top[i+1][0])\n",
    "        \n",
    "    stl_side.append(fa)\n",
    "    stl_side.append(fb)     \n",
    "vertice2=np.asarray(stl_side)\n",
    "\n",
    "\n",
    "# insert_side = mesh.Mesh(np.zeros(vertice2.shape[0], dtype=mesh.Mesh.dtype))\n",
    "# for i, f in enumerate(vertice2):\n",
    "#      insert_side.vectors[i]=f\n",
    "# insert_side.save('insert_side3.stl')"
   ]
  },
  {
   "cell_type": "code",
   "execution_count": 7,
   "metadata": {},
   "outputs": [],
   "source": [
    "tot_len=vertices.shape[0]+vertices1.shape[0]+vertice2.shape[0]\n",
    "vertex=np.zeros(tot_len)\n",
    "vertex.resize((tot_len,3 ,3))\n",
    "\n",
    "for i, f in enumerate(vertices): \n",
    "    vertex[i]=f\n",
    "for i in range(len(vertices), len(vertices)+len(vertices1)):\n",
    "    vertex[i]=vertices1[i-len(vertices)]\n",
    "for i in range((len(vertices)+len(vertices1)),tot_len):\n",
    "    vertex[i]=vertice2[i-(len(vertices)+len(vertices1))]\n",
    "\n",
    "insert = mesh.Mesh(np.zeros(tot_len, dtype=mesh.Mesh.dtype))\n",
    "for i, f in enumerate(vertex):\n",
    "    insert.vectors[i]=f\n",
    "insert.save('insert2.stl')"
   ]
  },
  {
   "cell_type": "code",
   "execution_count": 13,
   "metadata": {},
   "outputs": [
    {
     "name": "stdout",
     "output_type": "stream",
     "text": [
      "[[-175.    -7.5 -175. ]\n",
      " [ 175.    -7.5 -175. ]\n",
      " [ 175.    -7.5  175. ]\n",
      " [-175.    -7.5  175. ]\n",
      " [-175.     7.5 -175. ]\n",
      " [ 175.     7.5 -175. ]\n",
      " [ 175.     7.5  175. ]\n",
      " [-175.     7.5  175. ]]\n",
      "[[0 3 1]\n",
      " [1 3 2]\n",
      " [0 4 7]\n",
      " [0 7 3]\n",
      " [4 5 6]\n",
      " [4 6 7]\n",
      " [5 1 2]\n",
      " [5 2 6]\n",
      " [2 3 6]\n",
      " [3 7 6]\n",
      " [0 1 5]\n",
      " [0 5 4]]\n",
      "[-175.    -7.5 -175.  -175.    -7.5  175.   175.    -7.5 -175. ]\n",
      "[[-175.    -7.5 -175. ]\n",
      " [-175.    -7.5  175. ]\n",
      " [ 175.    -7.5 -175. ]]\n"
     ]
    }
   ],
   "source": [
    "# Define the 8 vertices of the cube \n",
    "vertices = np.array([\\\n",
    "    [-175, -7.5, -175 ],\n",
    "    [+175, -7.5, -175 ],\n",
    "    [+175, -7.5, +175 ],\n",
    "    [-175, -7.5, +175 ],\n",
    "    [-175, +7.5, -175 ],\n",
    "    [+175, +7.5, -175 ],\n",
    "    [+175, +7.5, +175 ],\n",
    "    [-175, +7.5, +175 ]])\n",
    "# Define the 12 triangles composing the cube\n",
    "faces = np.array([\\\n",
    "    [0,3,1],\n",
    "    [1,3,2],\n",
    "    [0,4,7],\n",
    "    [0,7,3],\n",
    "    [4,5,6],\n",
    "    [4,6,7],\n",
    "    [5,1,2],\n",
    "    [5,2,6],\n",
    "    [2,3,6],\n",
    "    [3,7,6],\n",
    "    [0,1,5],\n",
    "    [0,5,4]])\n",
    "\n",
    "# Create the mesh\n",
    "cube = mesh.Mesh(np.zeros(faces.shape[0], dtype=mesh.Mesh.dtype))\n",
    "for i, f in enumerate(faces):\n",
    "    for j in range(3):\n",
    "        cube.vectors[i][j] = vertices[f[j],:]\n",
    "\n",
    "# Write the mesh to file \"cube.stl\"\n",
    "cube.save('A30.stl')\n",
    "print vertices\n",
    "print faces\n",
    "print cube[0]\n",
    "print cube.vectors[0]"
   ]
  }
 ],
 "metadata": {
  "kernelspec": {
   "display_name": "Python 2",
   "language": "python",
   "name": "python2"
  },
  "language_info": {
   "codemirror_mode": {
    "name": "ipython",
    "version": 2
   },
   "file_extension": ".py",
   "mimetype": "text/x-python",
   "name": "python",
   "nbconvert_exporter": "python",
   "pygments_lexer": "ipython2",
   "version": "2.7.12"
  }
 },
 "nbformat": 4,
 "nbformat_minor": 2
}
