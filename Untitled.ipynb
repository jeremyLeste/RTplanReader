{
 "cells": [
  {
   "cell_type": "code",
   "execution_count": 14,
   "metadata": {},
   "outputs": [
    {
     "data": {
      "text/html": [
       "<script>requirejs.config({paths: { 'plotly': ['https://cdn.plot.ly/plotly-latest.min']},});if(!window.Plotly) {{require(['plotly'],function(plotly) {window.Plotly=plotly;});}}</script>"
      ],
      "text/vnd.plotly.v1+html": [
       "<script>requirejs.config({paths: { 'plotly': ['https://cdn.plot.ly/plotly-latest.min']},});if(!window.Plotly) {{require(['plotly'],function(plotly) {window.Plotly=plotly;});}}</script>"
      ]
     },
     "metadata": {},
     "output_type": "display_data"
    }
   ],
   "source": [
    "import dicom\n",
    "import numpy as np\n",
    "from stl import mesh\n",
    "import plotly.offline as py\n",
    "\n",
    "import plotly.graph_objs as go\n",
    "py.offline.init_notebook_mode(connected=True)"
   ]
  },
  {
   "cell_type": "code",
   "execution_count": 15,
   "metadata": {},
   "outputs": [],
   "source": [
    "plan = dicom.read_file(\"rp.ceccato.dcm\")\n",
    "#print len(plan.BeamSequence[0].BlockSequence[0].BlockData)\n",
    "bdata= [float(val) for val in plan.BeamSequence[0].BlockSequence[0].BlockData]\n",
    "x=[]\n",
    "y=[]\n",
    "\n",
    "for i in np.arange(0, len(bdata)):\n",
    "    if i %2  ==0:\n",
    "        x.append(bdata[i])\n",
    "    else: \n",
    "        y.append(bdata[i])\n",
    "trace1 = go.Scatter(\n",
    "    x = x,\n",
    "    y = y,\n",
    "    mode = 'markers', \n",
    "    name = 'Block edge', \n",
    "    )\n",
    "data1 = [trace1]\n",
    "fig1= go.Figure(data=data1)   \n",
    "#py.iplot(fig1)"
   ]
  },
  {
   "cell_type": "code",
   "execution_count": 16,
   "metadata": {},
   "outputs": [],
   "source": [
    "pts_up=[]\n",
    "\n",
    "for i in range(len(x)):\n",
    "    pt=[]\n",
    "    pt.append(x[i])\n",
    "    pt.append(0)\n",
    "    pt.append(y[i])\n",
    "    pts_up.append(pt)\n",
    "    \n",
    "origin1=[0, 0, 0]\n",
    "\n",
    "stl_top=[]\n",
    "for i in range(0, len(pts_up)):\n",
    "    f=[]\n",
    "    z=i+1\n",
    "    f.append(pts_up[i])\n",
    "    if z > len(pts_up)-1: \n",
    "        f.append(pts_up[0])\n",
    "    else:\n",
    "        f.append(pts_up[z])\n",
    "    f.append(origin1)\n",
    "    stl_top.append(f)"
   ]
  },
  {
   "cell_type": "code",
   "execution_count": 17,
   "metadata": {},
   "outputs": [],
   "source": [
    "pts_down=[]\n",
    "for i in range(len(x)):\n",
    "    pt=[]\n",
    "    pt.append(x[i])\n",
    "    pt.append(-20)\n",
    "    pt.append(y[i])\n",
    "    pts_down.append(pt)\n",
    "      \n",
    "origin2=[0, -20, 0] \n",
    "\n",
    "stl_bot=[]\n",
    "for i in range(0, len(pts_down)):\n",
    "    f=[]\n",
    "    z=i+1\n",
    "    f.append(pts_down[i])\n",
    "    if z > len(pts_down)-1: \n",
    "        f.append(pts_down[0])\n",
    "    else:\n",
    "        f.append(pts_down[z])\n",
    "    f.append(origin2)\n",
    "    stl_bot.append(f)"
   ]
  },
  {
   "cell_type": "code",
   "execution_count": 18,
   "metadata": {},
   "outputs": [],
   "source": [
    "vertices = np.asarray([stl_top])\n",
    "vertices.resize((len(stl_top),3,3))\n",
    "\n",
    "vertices1 = np.asarray([stl_bot])\n",
    "vertices1.resize((len(stl_bot),3,3))"
   ]
  },
  {
   "cell_type": "code",
   "execution_count": 19,
   "metadata": {},
   "outputs": [],
   "source": [
    "pts_side=[]\n",
    "stl_side=[]\n",
    "\n",
    "for i in range(len(stl_top)):\n",
    "    fa=[]\n",
    "    fb=[]\n",
    "    fa.append(stl_top[i][0])    \n",
    "    if i == len(stl_top)-1:\n",
    "            fa.append(stl_bot[0][0])\n",
    "    else:\n",
    "        fa.append(stl_bot[i+1][0])\n",
    "    fa.append(stl_bot[i][0])\n",
    "    \n",
    "    fb.append(stl_top[i][0])\n",
    "    if i == len(stl_top)-1:\n",
    "        fb.append(stl_bot[0][0])\n",
    "        fb.append(stl_top[0][0])        \n",
    "    else:\n",
    "        fb.append(stl_bot[i+1][0])\n",
    "        fb.append(stl_top[i+1][0])\n",
    "    stl_side.append(fa)\n",
    "    stl_side.append(fb)     \n",
    "vertice2=np.asarray(stl_side)"
   ]
  },
  {
   "cell_type": "code",
   "execution_count": 20,
   "metadata": {},
   "outputs": [],
   "source": [
    "tot_len=vertices.shape[0]+vertices1.shape[0]+vertice2.shape[0]\n",
    "vertex=np.zeros(tot_len)\n",
    "vertex.resize((tot_len,3 ,3))\n",
    "\n",
    "for i, f in enumerate(vertices): \n",
    "    vertex[i]=f\n",
    "for i in range(len(vertices), len(vertices)+len(vertices1)):\n",
    "    vertex[i]=vertices1[i-len(vertices)]\n",
    "for i in range(len(vertices)+len(vertices1),tot_len):\n",
    "    vertex[i]=vertice2[i-(len(vertices)+len(vertices1))]\n",
    "\n",
    "insert = mesh.Mesh(np.zeros(tot_len, dtype=mesh.Mesh.dtype))\n",
    "for i, f in enumerate(vertex):\n",
    "    insert.vectors[i]=f\n",
    "insert.save('CECCATO2.stl')"
   ]
  }
 ],
 "metadata": {
  "kernelspec": {
   "display_name": "Python 2",
   "language": "python",
   "name": "python2"
  },
  "language_info": {
   "codemirror_mode": {
    "name": "ipython",
    "version": 2
   },
   "file_extension": ".py",
   "mimetype": "text/x-python",
   "name": "python",
   "nbconvert_exporter": "python",
   "pygments_lexer": "ipython2",
   "version": "2.7.12"
  }
 },
 "nbformat": 4,
 "nbformat_minor": 2
}
