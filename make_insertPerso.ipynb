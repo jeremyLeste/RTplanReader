{
 "cells": [
  {
   "cell_type": "code",
   "execution_count": 8,
   "metadata": {},
   "outputs": [
    {
     "data": {
      "text/html": [
       "<script>requirejs.config({paths: { 'plotly': ['https://cdn.plot.ly/plotly-latest.min']},});if(!window.Plotly) {{require(['plotly'],function(plotly) {window.Plotly=plotly;});}}</script>"
      ],
      "text/vnd.plotly.v1+html": [
       "<script>requirejs.config({paths: { 'plotly': ['https://cdn.plot.ly/plotly-latest.min']},});if(!window.Plotly) {{require(['plotly'],function(plotly) {window.Plotly=plotly;});}}</script>"
      ]
     },
     "metadata": {},
     "output_type": "display_data"
    }
   ],
   "source": [
    "import dicom\n",
    "import numpy as np\n",
    "from stl import mesh\n",
    "import plotly.offline as py\n",
    "\n",
    "import plotly.graph_objs as go\n",
    "py.offline.init_notebook_mode(connected=True)"
   ]
  },
  {
   "cell_type": "code",
   "execution_count": 10,
   "metadata": {},
   "outputs": [
    {
     "ename": "IsADirectoryError",
     "evalue": "[Errno 21] Is a directory: '/media/sf_Documents/phd/work/gateTrueBeamModel/tb/fullCreator/patient/'",
     "output_type": "error",
     "traceback": [
      "\u001b[0;31m---------------------------------------------------------------------------\u001b[0m",
      "\u001b[0;31mIsADirectoryError\u001b[0m                         Traceback (most recent call last)",
      "\u001b[0;32m<ipython-input-10-800cf7460ac6>\u001b[0m in \u001b[0;36m<module>\u001b[0;34m\u001b[0m\n\u001b[1;32m      1\u001b[0m \u001b[0;31m#study='GARCIA'\u001b[0m\u001b[0;34m\u001b[0m\u001b[0;34m\u001b[0m\u001b[0;34m\u001b[0m\u001b[0m\n\u001b[0;32m----> 2\u001b[0;31m \u001b[0mplan\u001b[0m \u001b[0;34m=\u001b[0m \u001b[0mdicom\u001b[0m\u001b[0;34m.\u001b[0m\u001b[0mread_file\u001b[0m\u001b[0;34m(\u001b[0m\u001b[0;34m\"/media/sf_Documents/phd/work/gateTrueBeamModel/tb/fullCreator/patient/\"\u001b[0m\u001b[0;34m)\u001b[0m\u001b[0;34m\u001b[0m\u001b[0;34m\u001b[0m\u001b[0m\n\u001b[0m\u001b[1;32m      3\u001b[0m \u001b[0;31m#plan = dicom.read_file(\"/media/sf_Downloads/RP.PTV10.dcm\")\")\u001b[0m\u001b[0;34m\u001b[0m\u001b[0;34m\u001b[0m\u001b[0;34m\u001b[0m\u001b[0m\n\u001b[1;32m      4\u001b[0m \u001b[0;31m#print(plan)\u001b[0m\u001b[0;34m\u001b[0m\u001b[0;34m\u001b[0m\u001b[0;34m\u001b[0m\u001b[0m\n\u001b[1;32m      5\u001b[0m \u001b[0;31m#print len(plan.BeamSequence[0].BlockSequence[0].BlockData)\u001b[0m\u001b[0;34m\u001b[0m\u001b[0;34m\u001b[0m\u001b[0;34m\u001b[0m\u001b[0m\n",
      "\u001b[0;32m~/.local/lib/python3.6/site-packages/dicom/filereader.py\u001b[0m in \u001b[0;36mread_file\u001b[0;34m(fp, defer_size, stop_before_pixels, force)\u001b[0m\n\u001b[1;32m    587\u001b[0m         \u001b[0mcaller_owns_file\u001b[0m \u001b[0;34m=\u001b[0m \u001b[0;32mFalse\u001b[0m\u001b[0;34m\u001b[0m\u001b[0;34m\u001b[0m\u001b[0m\n\u001b[1;32m    588\u001b[0m         \u001b[0mlogger\u001b[0m\u001b[0;34m.\u001b[0m\u001b[0mdebug\u001b[0m\u001b[0;34m(\u001b[0m\u001b[0;34m\"Reading file '{0}'\"\u001b[0m\u001b[0;34m.\u001b[0m\u001b[0mformat\u001b[0m\u001b[0;34m(\u001b[0m\u001b[0mfp\u001b[0m\u001b[0;34m)\u001b[0m\u001b[0;34m)\u001b[0m\u001b[0;34m\u001b[0m\u001b[0;34m\u001b[0m\u001b[0m\n\u001b[0;32m--> 589\u001b[0;31m         \u001b[0mfp\u001b[0m \u001b[0;34m=\u001b[0m \u001b[0mopen\u001b[0m\u001b[0;34m(\u001b[0m\u001b[0mfp\u001b[0m\u001b[0;34m,\u001b[0m \u001b[0;34m'rb'\u001b[0m\u001b[0;34m)\u001b[0m\u001b[0;34m\u001b[0m\u001b[0;34m\u001b[0m\u001b[0m\n\u001b[0m\u001b[1;32m    590\u001b[0m \u001b[0;34m\u001b[0m\u001b[0m\n\u001b[1;32m    591\u001b[0m     \u001b[0;32mif\u001b[0m \u001b[0mdicom\u001b[0m\u001b[0;34m.\u001b[0m\u001b[0mdebugging\u001b[0m\u001b[0;34m:\u001b[0m\u001b[0;34m\u001b[0m\u001b[0;34m\u001b[0m\u001b[0m\n",
      "\u001b[0;31mIsADirectoryError\u001b[0m: [Errno 21] Is a directory: '/media/sf_Documents/phd/work/gateTrueBeamModel/tb/fullCreator/patient/'"
     ]
    }
   ],
   "source": [
    "#study='GARCIA'\n",
    "plan = dicom.read_file(\"/media/sf_Documents/phd/work/gateTrueBeamModel/tb/fullCreator/patient/\")\n",
    "#plan = dicom.read_file(\"/media/sf_Downloads/RP.PTV10.dcm\")\")\n",
    "#print(plan)\n",
    "#print len(plan.BeamSequence[0].BlockSequence[0].BlockData)\n",
    "bdata= [float(val) for val in plan.BeamSequence[0].BlockSequence[0].BlockData]\n",
    "x=[]\n",
    "y=[]\n",
    "\n",
    "for i in np.arange(0, len(bdata)):\n",
    "    if i %2  ==0:\n",
    "        x.append(bdata[i])\n",
    "    else: \n",
    "        y.append(bdata[i])\n",
    "trace1 = go.Scatter(\n",
    "    x = x,\n",
    "    y = y,\n",
    "    mode = 'markers', \n",
    "    name = 'Block edge', \n",
    "    )\n",
    "data1 = [trace1]\n",
    "fig1= go.Figure(data=data1)   \n",
    "py.iplot(fig1)\n",
    "#print plan.BeamSequence[0].BlockSequence[0].BlockData"
   ]
  },
  {
   "cell_type": "code",
   "execution_count": 10,
   "metadata": {},
   "outputs": [
    {
     "name": "stdout",
     "output_type": "stream",
     "text": [
      "[-37.5, 52.5193798449612, 7.5]\n",
      "[[-36.5, 52.652027027027, 7.5], [-37.5, 52.5193798449612, 7.5], [0, 0, 7.5]]\n",
      "[[-37.5, 52.5193798449612, 7.5], [-37.596153846154, 52.5, 7.5], [0, 0, 7.5]]\n"
     ]
    }
   ],
   "source": [
    "pts_up=[]\n",
    "\n",
    "for i in range(len(x)):\n",
    "    pt=[]\n",
    "    pt.append(x[i])\n",
    "    pt.append(y[i])\n",
    "    pt.append(7.5)\n",
    "    pts_up.append(pt)\n",
    "\n",
    "print(pts_up[0])\n",
    "origin1=[0, 0, 7.5]\n",
    "\n",
    "stl_top=[]\n",
    "for i in range(0, len(pts_up)):\n",
    "    f=[]\n",
    "    z=i+1\n",
    "    \n",
    "    if z > len(pts_up)-1: \n",
    "        f.append(pts_up[0])\n",
    "    else:\n",
    "        f.append(pts_up[z])\n",
    "    f.append(pts_up[i])\n",
    "    f.append(origin1)\n",
    "    stl_top.append(f)\n",
    "print(stl_top[0])\n",
    "print(stl_top[-1])"
   ]
  },
  {
   "cell_type": "code",
   "execution_count": 11,
   "metadata": {},
   "outputs": [
    {
     "name": "stdout",
     "output_type": "stream",
     "text": [
      "[[-37.5, 52.5193798449612, -7.5], [-36.5, 52.652027027027, -7.5], [0, 0, -7.5]]\n",
      "[[-37.596153846154, 52.5, -7.5], [-37.5, 52.5193798449612, -7.5], [0, 0, -7.5]]\n"
     ]
    }
   ],
   "source": [
    "pts_down=[]\n",
    "for i in range(len(x)):\n",
    "    pt=[]\n",
    "    pt.append(x[i])\n",
    "    pt.append(y[i])\n",
    "    pt.append(-7.5)\n",
    "    pts_down.append(pt)\n",
    "      \n",
    "origin2=[0, 0, -7.5] \n",
    "\n",
    "stl_bot=[]\n",
    "for i in range(0, len(pts_down)):\n",
    "    f=[]\n",
    "    z=i+1\n",
    "    f.append(pts_down[i])\n",
    "    if z > len(pts_down)-1: \n",
    "        f.append(pts_down[0])\n",
    "    else:\n",
    "        f.append(pts_down[z])\n",
    "    f.append(origin2)\n",
    "    stl_bot.append(f)\n",
    "print(stl_bot[0])\n",
    "print(stl_bot[-1])"
   ]
  },
  {
   "cell_type": "code",
   "execution_count": 12,
   "metadata": {},
   "outputs": [],
   "source": [
    "vertices = np.asarray([stl_top])\n",
    "vertices.resize((len(stl_top),3,3))\n",
    "\n",
    "vertices1 = np.asarray([stl_bot])\n",
    "vertices1.resize((len(stl_bot),3,3))\n",
    "\n",
    "#insert_down = mesh.Mesh(np.zeros(vertices1.shape[0], dtype=mesh.Mesh.dtype))\n",
    "# for i, f in enumerate(vertices1):\n",
    "#     insert_down.vectors[i]=f\n",
    "# insert_down.save('insert_down3.stl')\n",
    "# insert_up = mesh.Mesh(np.zeros(vertices.shape[0], dtype=mesh.Mesh.dtype))\n",
    "# for i, f in enumerate(vertices):\n",
    "#     insert_up.vectors[i]=f\n",
    "# insert_up.save('insert_up3.stl')"
   ]
  },
  {
   "cell_type": "code",
   "execution_count": 13,
   "metadata": {},
   "outputs": [],
   "source": [
    "pts_side=[]\n",
    "stl_side=[]\n",
    "\n",
    "for i in range(len(stl_top)):\n",
    "    fa=[]\n",
    "    fb=[]\n",
    "    fa.append(stl_top[i][0])    \n",
    "    if i == len(stl_top)-1:\n",
    "            fa.append(stl_bot[0][0])\n",
    "    else:\n",
    "        fa.append(stl_bot[i+1][0])\n",
    "    fa.append(stl_bot[i][0])\n",
    "    \n",
    "    fb.append(stl_top[i][0])\n",
    "    if i == len(stl_top)-1:\n",
    "        fb.append(stl_top[0][0])\n",
    "        fb.append(stl_bot[0][0])\n",
    "                \n",
    "    else:\n",
    "        fb.append(stl_top[i+1][0])\n",
    "        fb.append(stl_bot[i+1][0])\n",
    "        \n",
    "    stl_side.append(fa)\n",
    "    stl_side.append(fb)     \n",
    "vertice2=np.asarray(stl_side)\n",
    "\n",
    "\n",
    "# insert_side = mesh.Mesh(np.zeros(vertice2.shape[0], dtype=mesh.Mesh.dtype))\n",
    "# for i, f in enumerate(vertice2):\n",
    "#      insert_side.vectors[i]=f\n",
    "# insert_side.save('insert_side3.stl')"
   ]
  },
  {
   "cell_type": "code",
   "execution_count": 14,
   "metadata": {},
   "outputs": [],
   "source": [
    "tot_len=vertices.shape[0]+vertices1.shape[0]+vertice2.shape[0]\n",
    "vertex=np.zeros(tot_len)\n",
    "vertex.resize((tot_len,3 ,3))\n",
    "\n",
    "for i, f in enumerate(vertices): \n",
    "    vertex[i]=f\n",
    "for i in range(len(vertices), len(vertices)+len(vertices1)):\n",
    "    vertex[i]=vertices1[i-len(vertices)]\n",
    "for i in range((len(vertices)+len(vertices1)),tot_len):\n",
    "    vertex[i]=vertice2[i-(len(vertices)+len(vertices1))]\n",
    "\n",
    "insert = mesh.Mesh(np.zeros(tot_len, dtype=mesh.Mesh.dtype))\n",
    "for i, f in enumerate(vertex):\n",
    "    insert.vectors[i]=f\n",
    "#insert.save('/media/sf_CRCT/JupyterNotebook/data/RTplanReader/stl/'+study+'_insert.stl')\n",
    "insert.save('/media/sf_Documents/phd/work/gateTrueBeamModel/tb/fullCreator/patient/PATIENT_NAME/stl/'+study+'.stl')"
   ]
  }
 ],
 "metadata": {
  "kernelspec": {
   "display_name": "Python 3",
   "language": "python",
   "name": "python3"
  },
  "language_info": {
   "codemirror_mode": {
    "name": "ipython",
    "version": 3
   },
   "file_extension": ".py",
   "mimetype": "text/x-python",
   "name": "python",
   "nbconvert_exporter": "python",
   "pygments_lexer": "ipython3",
   "version": "3.6.9"
  }
 },
 "nbformat": 4,
 "nbformat_minor": 2
}
